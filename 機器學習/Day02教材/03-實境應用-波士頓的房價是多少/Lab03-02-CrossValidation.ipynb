{
 "cells": [
  {
   "cell_type": "code",
   "execution_count": 3,
   "metadata": {},
   "outputs": [
    {
     "name": "stdout",
     "output_type": "stream",
     "text": "best SVR  SVR(C=9, cache_size=200, coef0=0.0, degree=3, epsilon=0.1, gamma=0.1,\n    kernel='linear', max_iter=-1, shrinking=True, tol=0.001, verbose=False)\nScore  0.1257344309116326\n"
    }
   ],
   "source": [
    "from sklearn import svm, datasets\n",
    "from sklearn.model_selection import GridSearchCV\n",
    "\n",
    "diabetes = datasets.load_diabetes()\n",
    "\n",
    "X = diabetes.data\n",
    "Y = diabetes.target\n",
    "\n",
    "# set range of optional parameters\n",
    "# 設定參數組合\n",
    "param_grid = {'kernel':('linear','rbf', 'poly'), \n",
    "              'C' :range(1,10,1), \n",
    "              'gamma':[0.1, 0.01, 0.001],\n",
    "             'epsilon':[0.01,0.05,0.1,0.5,1.0]}\n",
    "\n",
    "# create a GridSearchCV object to select best svc parameters using 5-fold cross validation\n",
    "# 建立物件，採用5摺法來計算最好的模型\n",
    "svr = svm.SVR(gamma='auto')\n",
    "gclf = GridSearchCV(svr, param_grid, cv = 5)\n",
    "\n",
    "# split train and test data\n",
    "from sklearn.model_selection import train_test_split\n",
    "x_train,x_test,y_train,y_test = train_test_split(X,Y,test_size = 0.1)\n",
    "\n",
    "# apply the created GridSearcheCV to training data to select best parameters\n",
    "gclf.fit(x_train, y_train)\n",
    "# extract the best parameters\n",
    "bestkernel= gclf.best_estimator_.kernel\n",
    "bestC = gclf.best_estimator_.C\n",
    "bestGamma = gclf.best_estimator_.gamma\n",
    "\n",
    "# using the best parameters to create a best svm classifer and retrain again\n",
    "svr_best = svm.SVR(kernel= bestkernel, C= bestC, gamma = bestGamma)\n",
    "svr_best.fit(x_train, y_train)\n",
    "\n",
    "print(\"best SVR \", svr_best)\n",
    "print(\"Score \", svr_best.score(x_test,y_test) )\n"
   ]
  },
  {
   "cell_type": "code",
   "execution_count": null,
   "metadata": {},
   "outputs": [],
   "source": []
  }
 ],
 "metadata": {
  "kernelspec": {
   "display_name": "Python 3",
   "language": "python",
   "name": "python3"
  },
  "language_info": {
   "codemirror_mode": {
    "name": "ipython",
    "version": 3
   },
   "file_extension": ".py",
   "mimetype": "text/x-python",
   "name": "python",
   "nbconvert_exporter": "python",
   "pygments_lexer": "ipython3",
   "version": "3.7.6-final"
  }
 },
 "nbformat": 4,
 "nbformat_minor": 1
}