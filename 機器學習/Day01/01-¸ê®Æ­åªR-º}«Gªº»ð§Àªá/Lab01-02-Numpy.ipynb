{
 "cells": [
  {
   "cell_type": "code",
   "execution_count": 1,
   "metadata": {
    "pycharm": {
     "is_executing": false
    }
   },
   "outputs": [
    {
     "name": "stdout",
     "output_type": "stream",
     "text": [
      "[4 6 8]\n",
      "1 (3,) int32\n"
     ]
    }
   ],
   "source": [
    "import numpy as np\n",
    "\n",
    "np1 = np.array([1, 2, 3])\n",
    "np2 = np.array([3, 4, 5])\n",
    "\n",
    "# 陣列相加\n",
    "print(np1 + np2)  # [4 6 8]\n",
    "\n",
    "# 顯示相關資訊\n",
    "print(np1.ndim, np1.shape, np1.dtype)  # 1 (3,) int64 => 一維陣列, 三個元素, 資料型別"
   ]
  },
  {
   "cell_type": "code",
   "execution_count": 2,
   "metadata": {
    "pycharm": {
     "is_executing": false,
     "name": "#%%\n"
    }
   },
   "outputs": [
    {
     "name": "stdout",
     "output_type": "stream",
     "text": [
      "2 (2, 3) int32\n"
     ]
    }
   ],
   "source": [
    "# dimension shape datatype\n",
    "np3 = np.array([1, 2, 3, 4, 5, 6])\n",
    "np3 = np3.reshape([2, 3])\n",
    "print(np3.ndim, np3.shape, np3.dtype)  # 2 (2, 3) int64\n",
    "\n"
   ]
  },
  {
   "cell_type": "code",
   "execution_count": 15,
   "metadata": {
    "pycharm": {
     "is_executing": false,
     "name": "#%%\n"
    }
   },
   "outputs": [],
   "source": [
    "# method to create array\n",
    "np4 = np.zeros([2, 3])  # array([[ 0.,  0.,  0.], [ 0.,  0.,  0.]])\n",
    "np5 = np.ones([2, 3])  # array([[ 1.,  1.,  1.], [ 1.,  1.,  1.]])\n",
    "np6 = np.full([3,5],9)\n",
    "np7 = np.random.random([2,4])\n",
    "np8 = np.eye(5)"
   ]
  },
  {
   "cell_type": "code",
   "execution_count": 4,
   "metadata": {
    "pycharm": {
     "is_executing": false,
     "name": "#%% \n"
    }
   },
   "outputs": [
    {
     "name": "stdout",
     "output_type": "stream",
     "text": [
      "3\n",
      "4\n"
     ]
    }
   ],
   "source": [
    "# reshape\n",
    "np3 = np.array([1, 2, 3, 4, 5, 6])\n",
    "print(np3[2])  # 3\n",
    "\n",
    "np3 = np3.reshape([2, 3])\n",
    "print(np3[1, 0])  # 4"
   ]
  },
  {
   "cell_type": "code",
   "execution_count": 5,
   "metadata": {
    "pycharm": {
     "is_executing": false,
     "name": "#%%\n"
    }
   },
   "outputs": [
    {
     "name": "stdout",
     "output_type": "stream",
     "text": [
      "[False False False  True  True  True]\n",
      "[4 5 6]\n",
      "[ 6 15]\n"
     ]
    }
   ],
   "source": [
    "# mask\n",
    "np3 = np.array([1, 2, 3, 4, 5, 6])\n",
    "print(np3 > 3)  # [False False False  True  True  True]\n",
    "print(np3[np3 > 3])  # [4 5 6]\n",
    "np3 = np3.reshape([2, 3])\n",
    "print(np3.sum(axis=1))  # 將 axis=1 橫向加總 [6 15]"
   ]
  },
  {
   "cell_type": "code",
   "execution_count": 11,
   "outputs": [],
   "source": [
    "# slicing\n",
    "a = np.array([[1,2,3,4], [5,6,7,8], [9,10,11,12]])\n",
    "b = a[:1,0:3]\n",
    "\n",
    "# Use slicing to pull out the subarray consisting of the first 2 rows\n",
    "# and columns 1 and 2; b is the following array of shape (2, 2):\n",
    "# [[2 3]\n",
    "#  [6 7]]\n"
   ],
   "metadata": {
    "collapsed": false,
    "pycharm": {
     "name": "#%%\n",
     "is_executing": false
    }
   }
  }
 ],
 "metadata": {
  "kernelspec": {
   "display_name": "Python 3",
   "language": "python",
   "name": "python3"
  },
  "language_info": {
   "codemirror_mode": {
    "name": "ipython",
    "version": 3
   },
   "file_extension": ".py",
   "mimetype": "text/x-python",
   "name": "python",
   "nbconvert_exporter": "python",
   "pygments_lexer": "ipython3",
   "version": "3.7.6"
  },
  "pycharm": {
   "stem_cell": {
    "cell_type": "raw",
    "source": [],
    "metadata": {
     "collapsed": false
    }
   }
  }
 },
 "nbformat": 4,
 "nbformat_minor": 1
}