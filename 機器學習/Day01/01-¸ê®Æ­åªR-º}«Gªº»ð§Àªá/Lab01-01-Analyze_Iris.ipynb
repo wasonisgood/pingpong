{
 "cells": [
  {
   "attachments": {},
   "cell_type": "markdown",
   "metadata": {},
   "source": [
    "## 資料剖析 漂亮的鳶尾花"
   ]
  },
  {
   "cell_type": "code",
   "execution_count": 1,
   "metadata": {
    "pycharm": {
     "is_executing": false
    }
   },
   "outputs": [
    {
     "name": "stdout",
     "text": [
      ".. _iris_dataset:\n",
      "\n",
      "Iris plants dataset\n",
      "--------------------\n",
      "\n",
      "**Data Set Characteristics:**\n",
      "\n",
      "    :Number of Instances: 150 (50 in each of three classes)\n",
      "    :Number of Attributes: 4 numeric, predictive attributes and the class\n",
      "    :Attribute Information:\n",
      "        - sepal length in cm\n",
      "        - sepal width in cm\n",
      "        - petal length in cm\n",
      "        - petal width in cm\n",
      "        - class:\n",
      "                - Iris-Setosa\n",
      "                - Iris-Versicolour\n",
      "                - Iris-Virginica\n",
      "                \n",
      "    :Summary Statistics:\n",
      "\n",
      "    ============== ==== ==== ======= ===== ====================\n",
      "                    Min  Max   Mean    SD   Class Correlation\n",
      "    ============== ==== ==== ======= ===== ====================\n",
      "    sepal length:   4.3  7.9   5.84   0.83    0.7826\n",
      "    sepal width:    2.0  4.4   3.05   0.43   -0.4194\n",
      "    petal length:   1.0  6.9   3.76   1.76    0.9490  (high!)\n",
      "    petal width:    0.1  2.5   1.20   0.76    0.9565  (high!)\n",
      "    ============== ==== ==== ======= ===== ====================\n",
      "\n",
      "    :Missing Attribute Values: None\n",
      "    :Class Distribution: 33.3% for each of 3 classes.\n",
      "    :Creator: R.A. Fisher\n",
      "    :Donor: Michael Marshall (MARSHALL%PLU@io.arc.nasa.gov)\n",
      "    :Date: July, 1988\n",
      "\n",
      "The famous Iris database, first used by Sir R.A. Fisher. The dataset is taken\n",
      "from Fisher's paper. Note that it's the same as in R, but not as in the UCI\n",
      "Machine Learning Repository, which has two wrong data points.\n",
      "\n",
      "This is perhaps the best known database to be found in the\n",
      "pattern recognition literature.  Fisher's paper is a classic in the field and\n",
      "is referenced frequently to this day.  (See Duda & Hart, for example.)  The\n",
      "data set contains 3 classes of 50 instances each, where each class refers to a\n",
      "type of iris plant.  One class is linearly separable from the other 2; the\n",
      "latter are NOT linearly separable from each other.\n",
      "\n",
      ".. topic:: References\n",
      "\n",
      "   - Fisher, R.A. \"The use of multiple measurements in taxonomic problems\"\n",
      "     Annual Eugenics, 7, Part II, 179-188 (1936); also in \"Contributions to\n",
      "     Mathematical Statistics\" (John Wiley, NY, 1950).\n",
      "   - Duda, R.O., & Hart, P.E. (1973) Pattern Classification and Scene Analysis.\n",
      "     (Q327.D83) John Wiley & Sons.  ISBN 0-471-22361-1.  See page 218.\n",
      "   - Dasarathy, B.V. (1980) \"Nosing Around the Neighborhood: A New System\n",
      "     Structure and Classification Rule for Recognition in Partially Exposed\n",
      "     Environments\".  IEEE Transactions on Pattern Analysis and Machine\n",
      "     Intelligence, Vol. PAMI-2, No. 1, 67-71.\n",
      "   - Gates, G.W. (1972) \"The Reduced Nearest Neighbor Rule\".  IEEE Transactions\n",
      "     on Information Theory, May 1972, 431-433.\n",
      "   - See also: 1988 MLC Proceedings, 54-64.  Cheeseman et al\"s AUTOCLASS II\n",
      "     conceptual clustering system finds 3 classes in the data.\n",
      "   - Many, many more ...\n"
     ],
     "output_type": "stream"
    }
   ],
   "source": [
    "\"\"\"解剖資料集\n",
    "學習重點:知道如何讀懂資料集裡面的內容，還有資料的意義。\n",
    "\"\"\"\n",
    "from sklearn.datasets import load_iris\n",
    "\n",
    "iris_data = load_iris()\n",
    "# print(iris_data)\n",
    "print(iris_data.DESCR)\n",
    "# print(iris_data.data)\n",
    "# print(iris_data.target)"
   ]
  },
  {
   "cell_type": "code",
   "execution_count": 2,
   "metadata": {
    "pycharm": {
     "is_executing": false
    }
   },
   "outputs": [
    {
     "name": "stdout",
     "text": [
      "(150, 4)\n",
      "(150,)\n",
      "Shape of sepal : (150, 2)\n",
      "Type of sepal : <class 'numpy.ndarray'>\n",
      "隨意選取的資料:\n",
      " [[4.9 3. ]\n",
      " [4.7 3.2]\n",
      " [4.6 3.1]\n",
      " [5.  3.6]]\n"
     ],
     "output_type": "stream"
    }
   ],
   "source": [
    "\"\"\"Numpy 第一堂\n",
    "學習重點:了解如何篩選行與列\n",
    "\"\"\"\n",
    "# Numpy method\n",
    "import numpy as np\n",
    "\n",
    "X = iris_data.data\n",
    "Y = iris_data.target\n",
    "\n",
    "# print(X)\n",
    "print(X.shape)\n",
    "# print(Y)\n",
    "print(Y.shape)\n",
    "\n",
    "\n",
    "# 取得萼片\n",
    "sepal = X[:,0:2]\n",
    "print(\"Shape of sepal :\",sepal.shape)\n",
    "print(\"Type of sepal :\",type(sepal))\n",
    "\n",
    "# 隨意選取\n",
    "sepal_select = sepal[1:5,0:]\n",
    "print(\"隨意選取的資料:\\n\",sepal_select)\n",
    "\n",
    "# 選出長度與寬度\n",
    "sepal_length = sepal[:,0]\n",
    "# print(sepal_length)\n",
    "\n",
    "sepal_width = sepal[:,1]\n",
    "# print(sepal_width)"
   ]
  },
  {
   "cell_type": "code",
   "execution_count": 3,
   "metadata": {
    "pycharm": {
     "is_executing": false
    }
   },
   "outputs": [
    {
     "traceback": [
      "\u001b[1;31m---------------------------------------------------------------------------\u001b[0m",
      "\u001b[1;31mModuleNotFoundError\u001b[0m                       Traceback (most recent call last)",
      "\u001b[1;32m<ipython-input-3-109fd38449bd>\u001b[0m in \u001b[0;36m<module>\u001b[1;34m\u001b[0m\n\u001b[0;32m      3\u001b[0m \"\"\"\n\u001b[0;32m      4\u001b[0m \u001b[1;31m# 繪圖\u001b[0m\u001b[1;33m\u001b[0m\u001b[1;33m\u001b[0m\u001b[1;33m\u001b[0m\u001b[0m\n\u001b[1;32m----> 5\u001b[1;33m \u001b[1;32mimport\u001b[0m \u001b[0mmatplotlib\u001b[0m\u001b[1;33m.\u001b[0m\u001b[0mpyplot\u001b[0m \u001b[1;32mas\u001b[0m \u001b[0mplt\u001b[0m\u001b[1;33m\u001b[0m\u001b[1;33m\u001b[0m\u001b[0m\n\u001b[0m\u001b[0;32m      6\u001b[0m \u001b[1;31m# scatter --> 等同excel上面的散佈圖\u001b[0m\u001b[1;33m\u001b[0m\u001b[1;33m\u001b[0m\u001b[1;33m\u001b[0m\u001b[0m\n\u001b[0;32m      7\u001b[0m \u001b[0mplt\u001b[0m\u001b[1;33m.\u001b[0m\u001b[0mscatter\u001b[0m\u001b[1;33m(\u001b[0m\u001b[0msepal_length\u001b[0m\u001b[1;33m,\u001b[0m\u001b[0msepal_width\u001b[0m\u001b[1;33m,\u001b[0m\u001b[0mc\u001b[0m\u001b[1;33m=\u001b[0m\u001b[1;34m'red'\u001b[0m\u001b[1;33m,\u001b[0m\u001b[0mmarker\u001b[0m\u001b[1;33m=\u001b[0m\u001b[1;34m'D'\u001b[0m\u001b[1;33m)\u001b[0m\u001b[1;33m\u001b[0m\u001b[1;33m\u001b[0m\u001b[0m\n",
      "\u001b[1;31mModuleNotFoundError\u001b[0m: No module named 'matplotlib'"
     ],
     "ename": "ModuleNotFoundError",
     "evalue": "No module named 'matplotlib'",
     "output_type": "error"
    }
   ],
   "source": [
    "\"\"\"Matplotlib 第一堂\n",
    "學習重點:知道如何畫出簡易的散佈圖。\n",
    "\"\"\"\n",
    "# 繪圖\n",
    "import matplotlib.pyplot as plt\n",
    "# scatter --> 等同excel上面的散佈圖\n",
    "plt.scatter(sepal_length,sepal_width,c='red',marker='D')\n",
    "plt.show()\n"
   ]
  },
  {
   "cell_type": "code",
   "execution_count": null,
   "metadata": {
    "pycharm": {
     "is_executing": false
    }
   },
   "outputs": [],
   "source": [
    "\"\"\"Numpy 第二堂\n",
    "學習重點:了解如何使用遮罩篩出自己要的資料\n",
    "\"\"\"\n",
    "# 取得某一個品種的資料\n",
    "sepal_length_0 = sepal_length[Y==0]\n",
    "sepal_width_0 = sepal_width[Y==0]\n",
    "print(\"Y = 0 所對應的資料數 = \",len(sepal_length_0))\n",
    "\n"
   ]
  },
  {
   "cell_type": "code",
   "execution_count": null,
   "metadata": {
    "pycharm": {
     "is_executing": false
    }
   },
   "outputs": [],
   "source": [
    "\"\"\"Matplotlib 第二堂\n",
    "學習重點:重複畫上不同品種的點，並加上標題與座標名稱。\n",
    "\"\"\"\n",
    "\n",
    "plt.scatter(sepal_length_0,sepal_width_0,c='red')\n",
    "plt.scatter(sepal_length[Y==1],sepal_width[Y==1],c='green',marker='D')\n",
    "plt.scatter(sepal_length[Y==2],sepal_width[Y==2],c='blue',marker='v')\n",
    "# 加上圖示-方法一 自訂代號\n",
    "plt.legend(['A','B','C'])\n",
    "# 加上圖示-方法二 使用datasets 中包含的資料\n",
    "# plt.legend(iris_data.target_names)\n",
    "\n",
    "# 加上標題\n",
    "plt.title('Sepal')\n",
    "plt.xlabel(iris_data.feature_names[0])\n",
    "plt.ylabel(iris_data.feature_names[1])\n",
    "plt.show()"
   ]
  },
  {
   "cell_type": "code",
   "execution_count": null,
   "metadata": {
    "pycharm": {
     "is_executing": false
    }
   },
   "outputs": [],
   "source": [
    "\"\"\"練習Lab01:仿造上述程式，使用花瓣長寬畫出散佈圖，並標出不同的品種。\n",
    "複習重點1.學會Numpy的使用方式，如何選取特定行列的資料，使用遮罩。\n",
    "複習重點2.學會使用matplotlib繪製散佈圖。\n",
    "\"\"\"\n",
    "# TODO 開始畫圖\n",
    "# petal = X[:,3:]"
   ]
  },
  {
   "cell_type": "code",
   "execution_count": null,
   "metadata": {
    "pycharm": {
     "is_executing": false
    }
   },
   "outputs": [],
   "source": [
    "\"\"\"Matplotlib 第三堂\n",
    "學習重點:了解如何同時繪製多張圖\n",
    "\"\"\"\n",
    "plt.figure(figsize=(15,10))\n",
    "\n",
    "\n",
    "# Subplot參數順序: 橫寬格數，縱高格數，編號(從1開始)\n",
    "# 左上\n",
    "\n",
    "plt1 = plt.subplot(2,2,1)\n",
    "plt1.scatter(sepal_length,sepal_width)\n",
    "plt1.set_title('1.Scatter of Sepal')\n",
    "\n",
    "# 右上\n",
    "plt2 = plt.subplot(2,2,2)\n",
    "plt2.scatter(sepal_length_0,sepal_width_0,c='red')\n",
    "plt2.scatter(sepal_length[Y==1],sepal_width[Y==1],c='green',marker='D')\n",
    "plt2.scatter(sepal_length[Y==2],sepal_width[Y==2],c='blue',marker='v')\n",
    "plt2.legend(iris_data.target_names)\n",
    "plt2.set_title('2.Scatter of Sepal (Different Kinds)')\n",
    "\n",
    "# 左下\n",
    "# TODO \n",
    "plt3 = plt.subplot(2,2,3)\n",
    "plt3.set_title('3.Scatter of Petal ')\n",
    "\n",
    "# 右下\n",
    "# TODO\n",
    "plt4 = plt.subplot(2,2,4)\n",
    "plt4.set_title('4.Scatter of Petal (Different Kinds)')\n",
    "\n",
    "plt.show()\n"
   ]
  }
 ],
 "metadata": {
  "kernelspec": {
   "display_name": "Python 3",
   "language": "python",
   "name": "python3"
  },
  "language_info": {
   "codemirror_mode": {
    "name": "ipython",
    "version": 3
   },
   "file_extension": ".py",
   "mimetype": "text/x-python",
   "name": "python",
   "nbconvert_exporter": "python",
   "pygments_lexer": "ipython3",
   "version": "3.7.6"
  },
  "pycharm": {
   "stem_cell": {
    "cell_type": "raw",
    "source": [],
    "metadata": {
     "collapsed": false
    }
   }
  }
 },
 "nbformat": 4,
 "nbformat_minor": 1
}